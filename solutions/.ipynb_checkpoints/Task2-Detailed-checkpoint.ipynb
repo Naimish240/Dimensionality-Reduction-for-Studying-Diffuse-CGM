{
 "cells": [
  {
   "cell_type": "markdown",
   "id": "continental-pavilion",
   "metadata": {},
   "source": [
    "This notebook contains the solution for task 2 (Astrophysical Absorption Line Exercise)\n",
    "First, we start off by importing the required libraries and initialising the constants we'll be using."
   ]
  },
  {
   "cell_type": "code",
   "execution_count": 1,
   "id": "burning-brass",
   "metadata": {},
   "outputs": [],
   "source": [
    "# Import Statements\n",
    "import matplotlib.pyplot as plt\n",
    "from math import pi, exp"
   ]
  },
  {
   "cell_type": "code",
   "execution_count": 2,
   "id": "english-cream",
   "metadata": {},
   "outputs": [],
   "source": [
    "# Constants\n",
    "# Slab Properties\n",
    "nH = 0.1  # cm -3\n",
    "x = 0.1\n",
    "# Hydrogen Properties (Lyman)\n",
    "G = 6.265e8  # s -1\n",
    "f = 0.4164\n",
    "g0 = 2\n",
    "Z = 2.0\n",
    "# Other consts\n",
    "me = 9.11e-28  # g\n",
    "c = 3e10  # cm s -1\n",
    "e = 4.80e-10  # cm 3/2 g 1/2 s-1"
   ]
  },
  {
   "cell_type": "markdown",
   "id": "accomplished-colors",
   "metadata": {},
   "source": [
    "From the problem statement, we know that we need to generate the spectrum of light after it passes through a slab of gas.\n",
    "\n",
    "The formula for this has been provided, and is as follows:\n",
    "1. Formula for the Absorption Coefficient\n",
    "$$\n",
    "\\alpha(\\upsilon) = \\frac{e^{2}fn_{H}}{4\\pi m_ec}\\frac{(1-x)g_o}{Z}\\frac{G}{(\\upsilon - \\upsilon_{0})^{2}+(\\frac{G}{4\\pi})^{2}}\n",
    "$$\n",
    "\n",
    "2. Formula for Intensity\n",
    "$$\n",
    "I(\\lambda) = e^{-\\alpha(\\upsilon)d}\n",
    "$$"
   ]
  },
  {
   "cell_type": "code",
   "execution_count": 4,
   "id": "immediate-second",
   "metadata": {},
   "outputs": [],
   "source": [
    "# Implementing Formula for Absorption Coefficient\n",
    "def calcAlpha(v, v0):\n",
    "    '''\n",
    "    Inputs :\n",
    "        v : Frequency\n",
    "        v0 : Central Frequency\n",
    "\n",
    "    Output :\n",
    "        a : Absorption Coefficient\n",
    "\n",
    "    Formula taken from task 2 page 2\n",
    "    '''\n",
    "    A = (e * e * f * nH) / (4 * pi * me * c)\n",
    "    B = ((1 - x) * g0) / (Z)\n",
    "    C = (G) / ((v - v0) ** 2 + (G / (4 * pi)) ** 2)\n",
    "    a = A * B * C\n",
    "    return a"
   ]
  },
  {
   "cell_type": "code",
   "execution_count": 5,
   "id": "given-process",
   "metadata": {},
   "outputs": [],
   "source": [
    "# Implementing formula to calculate Intensity\n",
    "def calcIntensity(l, v0, d):\n",
    "    '''\n",
    "    Inputs :\n",
    "        l : Wavelength\n",
    "        v0 : Central Frequency\n",
    "        d : Thickness of slab\n",
    "\n",
    "    Output :\n",
    "        I : (Intensity of light)\n",
    "\n",
    "    Forumla taken from task 2 page 2\n",
    "    '''\n",
    "    # Calculates freq. from wavelength\n",
    "    v = c / l\n",
    "    # Calculates Alpha for wavelength and central freq.\n",
    "    a = calcAlpha(v, v0)\n",
    "    # Calculates Intensity for Alpha and d\n",
    "    I = exp(a * d * -1)\n",
    "    # Returns I\n",
    "    return I"
   ]
  },
  {
   "cell_type": "code",
   "execution_count": 7,
   "id": "greatest-hungary",
   "metadata": {},
   "outputs": [
    {
     "name": "stdout",
     "output_type": "stream",
     "text": [
      "1.0\n"
     ]
    }
   ],
   "source": [
    "# Test to see if the equations work properly\n",
    "# Wavelength : 1015 A\n",
    "# Central Frequency : 2.4660\n",
    "# Thickness of slab : 1 cm\n",
    "print(calcIntensity(1015e-7, 2.4660, 1))"
   ]
  },
  {
   "cell_type": "markdown",
   "id": "latter-asbestos",
   "metadata": {},
   "source": [
    "The above result is in accordance with what is to be expected. How? Because we're calculating the intensity of light which makes it through the gas slab, and the formula is telling us that all the light which came in, is coming out. This makes sense.\n",
    "\n",
    "Now, we create a class called 'Spectrum'. Why? Because once we create an object of the class, it can be used in multiple contexts, which on the long run should make things easier for us.\n",
    "\n",
    "The class has the following properties:\n",
    "\n",
    "        Variables:\n",
    "            v0 : central frequency for the spectrum\n",
    "            d : thickness of slab for spectrum\n",
    "            res : Number of steps between low and up\n",
    "            low : Lower limit / frequency to start from\n",
    "            up : Upper limit / frequency to terminate generation at\n",
    "            intensities : list of intensity for each wavelength\n",
    "            wavelengths : list of wavelengths we're calculating intensities for\n",
    "\n",
    "        Methods:\n",
    "            __init__\n",
    "                Creates object of class\n",
    "                Requires 'v0' and 'd'\n",
    "\n",
    "            generate\n",
    "                Generates the spectrum for the object\n",
    "                Requires 'res', 'l', 'u'\n",
    "\n",
    "            show\n",
    "                Shows the spectrum generated for the object\n",
    "                Saves plot if flag is true\n",
    "\n",
    "            __len__\n",
    "                Returns the number of elements in Intensities\n",
    "\n",
    "            __repr__\n",
    "                Prints the values of v0 and d for the object"
   ]
  },
  {
   "cell_type": "code",
   "execution_count": 11,
   "id": "following-fever",
   "metadata": {},
   "outputs": [],
   "source": [
    "class Spectrum(object):\n",
    "    def __init__(self, v0, d, res, low, up):\n",
    "        '''\n",
    "        Inputs :\n",
    "            v0 : Central Frequency\n",
    "            d : Thickness of slab\n",
    "            res : Number of steps between low and up\n",
    "            low : Lower limit / frequency to start from\n",
    "            up : Upper limit / frequency to terminate generation at\n",
    "        '''\n",
    "        self.v0 = v0\n",
    "        self.d = d\n",
    "        self.res = res\n",
    "        self.low = low / 10 ** 7\n",
    "        self.up = up / 10 ** 7\n",
    "        self.wavelengths = []\n",
    "        self.intensities = []\n",
    "\n",
    "    def generate(self):\n",
    "        '''\n",
    "        Generates list of intensities for the spectrum\n",
    "        '''\n",
    "        # Clears list of intensities and wavelengths\n",
    "        self.intensities = []\n",
    "        self.wavelengths = []\n",
    "        # Finds the step value for the simulation\n",
    "        STEP = (self.up - self.low) / self.res\n",
    "        # Runs for loop, iterating across all wavelengths\n",
    "        for i in range(self.res):\n",
    "            # Wavelength\n",
    "            w = self.low + (i * STEP)\n",
    "            # Add wavelength to list of wavelengths\n",
    "            self.wavelengths.append(w * 10**7)\n",
    "            # Calculate intensity for wavelength\n",
    "            intensity = calcIntensity(w, self.v0, self.d)\n",
    "            # Add intensity to list of intensities\n",
    "            self.intensities.append(intensity)\n",
    "\n",
    "    def show(self, save=False):\n",
    "        plt.plot(self.wavelengths, self.intensities)\n",
    "        plt.xlabel(\"Wavelength (nm)\")\n",
    "        plt.ylabel(\"Intensity\")\n",
    "        plt.title(\"Spectrum\")\n",
    "        plt.show()\n",
    "        if not save:\n",
    "            return None\n",
    "\n",
    "        if not os.path.exists('Plots'):\n",
    "            os.mkdir('Plots')\n",
    "\n",
    "        plt.savefig(f'Plots/{self.v0}_{self.d}_{self.res}_{self.low}_{self.up}.jpg')\n",
    "\n",
    "    def __len__(self):\n",
    "        return len(self.intensities)\n",
    "\n",
    "    def __repr__(self):\n",
    "        return f\"Central Frequency : {self.v0}\\nThickness of slab : {self.d}\""
   ]
  },
  {
   "cell_type": "markdown",
   "id": "completed-progressive",
   "metadata": {},
   "source": [
    "Now that we've created a class, let's try and generate the spectrum for the first subdivision, where\n",
    "$$\n",
    "d = 10^{14} cm\n",
    "$$"
   ]
  },
  {
   "cell_type": "code",
   "execution_count": 10,
   "id": "dangerous-toilet",
   "metadata": {},
   "outputs": [
    {
     "data": {
      "image/png": "[encoded data removed]",
      "text/plain": [
       "<Figure size 432x288 with 1 Axes>"
      ]
     },
     "metadata": {
      "needs_background": "light"
     },
     "output_type": "display_data"
    }
   ],
   "source": [
    "'''\n",
    "Parameters:\n",
    "v0 = 2.46607 x 10 ^ 15 ( Central Frequency )\n",
    "d = 10 ^ 14 ( Thickness of slab )\n",
    "res = 1000 ( Resolution of graph / Number of wavelengths calculated )\n",
    "low = 0 ( Lower limit of wavelength to start the plot )\n",
    "up = 1000 ( Upper limit of wavelength to end the plot )\n",
    "'''\n",
    "# Create object of the spectrum class with the above properties\n",
    "obj = Spectrum(2.46607e15, 10e14, 1000, 1, 1000)\n",
    "# Calculate the data required for the plot\n",
    "obj.generate()\n",
    "# Show the plot\n",
    "obj.show()"
   ]
  },
  {
   "cell_type": "markdown",
   "id": "understood-helping",
   "metadata": {},
   "source": [
    "Whoops! That doesn't look right. As we can see, there are a couple of issues with our parameters.\n",
    "For starters, we had defined the unit of the x-axis of the graph to be in nanometers, but the class takes input in cm. We fix that first, and run the plot again."
   ]
  },
  {
   "cell_type": "code",
   "execution_count": 13,
   "id": "endangered-garage",
   "metadata": {},
   "outputs": [
    {
     "data": {
      "image/png": "[encoded data removed]",
      "text/plain": [
       "<Figure size 432x288 with 1 Axes>"
      ]
     },
     "metadata": {
      "needs_background": "light"
     },
     "output_type": "display_data"
    }
   ],
   "source": [
    "# Create object of the spectrum class with the above properties\n",
    "obj = Spectrum(2.46607e15, 10e14, 1000, 1, 1000)\n",
    "# Calculate the data required for the plot\n",
    "obj.generate()\n",
    "# Show the plot\n",
    "obj.show()"
   ]
  },
  {
   "cell_type": "markdown",
   "id": "faced-pleasure",
   "metadata": {},
   "source": [
    "Now that looks more like what we're looking for. But upon closely examining the axes, we can see that we have a couple of issues with this plot.\n",
    "\n",
    "1. We have no way of figuring out where this lies on the x-axis\n",
    "2. The y-axis is dealing with values where we're only messing with the last digit of 1.000000. That means that despite us noticing a dip here, the change in intensity is negligible.\n",
    "\n",
    "So, how do we fix these issues?\n",
    "We can fix '1' by adding a couple of print statements, as shown below."
   ]
  },
  {
   "cell_type": "code",
   "execution_count": 15,
   "id": "rational-sandwich",
   "metadata": {},
   "outputs": [
    {
     "name": "stdout",
     "output_type": "stream",
     "text": [
      "-----------------------------\n",
      "Number of wavelengths sampled:  1000\n",
      "Central Frequency : 2466070000000000.0\n",
      "Thickness of slab : 1000000000000000.0\n",
      "Wavelength of Minimum Intensity:  121.879 nm\n",
      "Minimum Intensity:  0.999999259598372\n"
     ]
    },
    {
     "data": {
      "image/png": "[encoded data removed]",
      "text/plain": [
       "<Figure size 432x288 with 1 Axes>"
      ]
     },
     "metadata": {
      "needs_background": "light"
     },
     "output_type": "display_data"
    },
    {
     "name": "stdout",
     "output_type": "stream",
     "text": [
      "-----------------------------\n"
     ]
    }
   ],
   "source": [
    "print(\"-----------------------------\")\n",
    "print(\"Number of wavelengths sampled: \", len(obj))\n",
    "print(obj)\n",
    "# We select the wavelength for which we have a corresponding minimum intensity\n",
    "# In retrospect, using dictionaries could have made this step easier.\n",
    "print(\"Wavelength of Minimum Intensity: \",\n",
    "      obj.wavelengths[obj.intensities.index(min(obj.intensities))],\n",
    "      \"nm\")\n",
    "# Now, we print the minimum intensity\n",
    "print(\"Minimum Intensity: \",\n",
    "      obj.intensities[obj.intensities.index(min(obj.intensities))])\n",
    "obj.show()\n",
    "print(\"-----------------------------\")"
   ]
  },
  {
   "cell_type": "markdown",
   "id": "other-convention",
   "metadata": {},
   "source": [
    "Now we're getting somewhere. First things first. From the statements above, we can make the following observations from the graph:\n",
    "1. The wavelength we're looking at is 121.879 nm\n",
    "2. The minimum intensity we observe is 0.999999259598372\n",
    "\n",
    "With these observations, we can make the following inferences:\n",
    "\n",
    "1. Narrowing the search to around 121 nm could yield us better results with respect to the task at hand.\n",
    "2. The intensity dip, although negligible, tells us that we're on the right track.\n",
    "\n",
    "So now, let's generate the spectrum again, armed with these insights!"
   ]
  },
  {
   "cell_type": "code",
   "execution_count": 17,
   "id": "comfortable-class",
   "metadata": {},
   "outputs": [
    {
     "name": "stdout",
     "output_type": "stream",
     "text": [
      "-----------------------------\n",
      "Number of wavelengths sampled:  1000\n",
      "Central Frequency : 2466070000000000.0\n",
      "Thickness of slab : 1000000000000000.0\n",
      "Wavelength of Minimum Intensity:  121.66 nm\n",
      "Minimum Intensity:  0.9995217550795075\n"
     ]
    },
    {
     "data": {
      "image/png": "[encoded data removed]",
      "text/plain": [
       "<Figure size 432x288 with 1 Axes>"
      ]
     },
     "metadata": {
      "needs_background": "light"
     },
     "output_type": "display_data"
    },
    {
     "name": "stdout",
     "output_type": "stream",
     "text": [
      "-----------------------------\n"
     ]
    }
   ],
   "source": [
    "# Create object of the spectrum class with the above properties\n",
    "obj = Spectrum(2.46607e15, 10e14, 1000, 115, 135)\n",
    "# Calculate the data required for the plot\n",
    "obj.generate()\n",
    "\n",
    "print(\"-----------------------------\")\n",
    "print(\"Number of wavelengths sampled: \", len(obj))\n",
    "print(obj)\n",
    "# We select the wavelength for which we have a corresponding minimum intensity\n",
    "# In retrospect, using dictionaries could have made this step easier.\n",
    "print(\"Wavelength of Minimum Intensity: \",\n",
    "      obj.wavelengths[obj.intensities.index(min(obj.intensities))],\n",
    "      \"nm\")\n",
    "# Now, we print the minimum intensity\n",
    "print(\"Minimum Intensity: \",\n",
    "      obj.intensities[obj.intensities.index(min(obj.intensities))])\n",
    "obj.show()\n",
    "print(\"-----------------------------\")"
   ]
  },
  {
   "cell_type": "markdown",
   "id": "welsh-canvas",
   "metadata": {},
   "source": [
    "Now although we've reduced the search radius, we can clearly see that our intensity voes are yet to be meaningfully addressed. This is "
   ]
  }
 ],
 "metadata": {
  "kernelspec": {
   "display_name": "Python 3",
   "language": "python",
   "name": "python3"
  },
  "language_info": {
   "codemirror_mode": {
    "name": "ipython",
    "version": 3
   },
   "file_extension": ".py",
   "mimetype": "text/x-python",
   "name": "python",
   "nbconvert_exporter": "python",
   "pygments_lexer": "ipython3",
   "version": "3.9.2"
  }
 },
 "nbformat": 4,
 "nbformat_minor": 5
}
