{
 "cells": [
  {
   "cell_type": "markdown",
   "id": "narrative-athletics",
   "metadata": {},
   "source": [
    "This notebook contains the solution for task 2 (Astrophysical Absorption Line Exercise)\n",
    "\n",
    "This is a detailed, lengthy notebook. If time is of the essence, the final answers have been put up in the Short version of this notebook.\n",
    "\n",
    "First, we start off by importing the required libraries and initialising the constants we'll be using."
   ]
  },
  {
   "cell_type": "code",
   "execution_count": 1,
   "id": "informative-right",
   "metadata": {},
   "outputs": [],
   "source": [
    "# Import Statements\n",
    "import matplotlib.pyplot as plt\n",
    "from math import pi, exp"
   ]
  },
  {
   "cell_type": "code",
   "execution_count": 2,
   "id": "communist-italian",
   "metadata": {},
   "outputs": [],
   "source": [
    "# Constants\n",
    "# Slab Properties\n",
    "nH = 0.1  # cm -3\n",
    "x = 0.1\n",
    "# Hydrogen Properties (Lyman)\n",
    "G = 6.265e8  # s -1\n",
    "f = 0.4164\n",
    "g0 = 2\n",
    "Z = 2.0\n",
    "# Other consts\n",
    "me = 9.11e-28  # g\n",
    "c = 3e10  # cm s -1\n",
    "e = 4.80e-10  # cm 3/2 g 1/2 s-1"
   ]
  },
  {
   "cell_type": "markdown",
   "id": "furnished-finish",
   "metadata": {},
   "source": [
    "From the problem statement, we know that we need to generate the spectrum of light after it passes through a slab of gas.\n",
    "\n",
    "The formula for this has been provided, and is as follows:\n",
    "1. Formula for the Absorption Coefficient\n",
    "$$\n",
    "\\alpha(\\upsilon) = \\frac{e^{2}fn_{H}}{4\\pi m_ec}\\frac{(1-x)g_o}{Z}\\frac{G}{(\\upsilon - \\upsilon_{0})^{2}+(\\frac{G}{4\\pi})^{2}}\n",
    "$$\n",
    "\n",
    "2. Formula for Intensity\n",
    "$$\n",
    "I(\\lambda) = e^{-\\alpha(\\upsilon)d}\n",
    "$$"
   ]
  },
  {
   "cell_type": "code",
   "execution_count": 4,
   "id": "exotic-sector",
   "metadata": {},
   "outputs": [],
   "source": [
    "# Implementing Formula for Absorption Coefficient\n",
    "def calcAlpha(v, v0):\n",
    "    '''\n",
    "    Inputs :\n",
    "        v : Frequency\n",
    "        v0 : Central Frequency\n",
    "\n",
    "    Output :\n",
    "        a : Absorption Coefficient\n",
    "\n",
    "    Formula taken from task 2 page 2\n",
    "    '''\n",
    "    A = (e * e * f * nH) / (4 * pi * me * c)\n",
    "    B = ((1 - x) * g0) / (Z)\n",
    "    C = (G) / ((v - v0) ** 2 + (G / (4 * pi)) ** 2)\n",
    "    a = A * B * C\n",
    "    return a"
   ]
  },
  {
   "cell_type": "code",
   "execution_count": 5,
   "id": "composite-alberta",
   "metadata": {},
   "outputs": [],
   "source": [
    "# Implementing formula to calculate Intensity\n",
    "def calcIntensity(l, v0, d):\n",
    "    '''\n",
    "    Inputs :\n",
    "        l : Wavelength\n",
    "        v0 : Central Frequency\n",
    "        d : Thickness of slab\n",
    "\n",
    "    Output :\n",
    "        I : (Intensity of light)\n",
    "\n",
    "    Forumla taken from task 2 page 2\n",
    "    '''\n",
    "    # Calculates freq. from wavelength\n",
    "    v = c / l\n",
    "    # Calculates Alpha for wavelength and central freq.\n",
    "    a = calcAlpha(v, v0)\n",
    "    # Calculates Intensity for Alpha and d\n",
    "    I = exp(a * d * -1)\n",
    "    # Returns I\n",
    "    return I"
   ]
  },
  {
   "cell_type": "code",
   "execution_count": 7,
   "id": "unsigned-provincial",
   "metadata": {},
   "outputs": [
    {
     "name": "stdout",
     "output_type": "stream",
     "text": [
      "1.0\n"
     ]
    }
   ],
   "source": [
    "# Test to see if the equations work properly\n",
    "# Wavelength : 1015 A\n",
    "# Central Frequency : 2.4660\n",
    "# Thickness of slab : 1 cm\n",
    "print(calcIntensity(1015e-7, 2.4660, 1))"
   ]
  },
  {
   "cell_type": "markdown",
   "id": "photographic-vacation",
   "metadata": {},
   "source": [
    "The above result is in accordance with what is to be expected. How? Because we're calculating the intensity of light which makes it through the gas slab, and the formula is telling us that all the light which came in, is coming out. This makes sense.\n",
    "\n",
    "Now, we create a class called 'Spectrum'. Why? Because once we create an object of the class, it can be used in multiple contexts, which on the long run should make things easier for us.\n",
    "\n",
    "The class has the following properties:\n",
    "\n",
    "        Variables:\n",
    "            v0 : central frequency for the spectrum\n",
    "            d : thickness of slab for spectrum\n",
    "            res : Number of steps between low and up\n",
    "            low : Lower limit / frequency to start from\n",
    "            up : Upper limit / frequency to terminate generation at\n",
    "            intensities : list of intensity for each wavelength\n",
    "            wavelengths : list of wavelengths we're calculating intensities for\n",
    "\n",
    "        Methods:\n",
    "            __init__\n",
    "                Creates object of class\n",
    "                Requires 'v0' and 'd'\n",
    "\n",
    "            generate\n",
    "                Generates the spectrum for the object\n",
    "                Requires 'res', 'l', 'u'\n",
    "\n",
    "            show\n",
    "                Shows the spectrum generated for the object\n",
    "                Saves plot if flag is true\n",
    "\n",
    "            __len__\n",
    "                Returns the number of elements in Intensities\n",
    "\n",
    "            __repr__\n",
    "                Prints the values of v0 and d for the object"
   ]
  },
  {
   "cell_type": "code",
   "execution_count": 11,
   "id": "suspected-bibliography",
   "metadata": {},
   "outputs": [],
   "source": [
    "class Spectrum(object):\n",
    "    def __init__(self, v0, d, res, low, up):\n",
    "        '''\n",
    "        Inputs :\n",
    "            v0 : Central Frequency\n",
    "            d : Thickness of slab\n",
    "            res : Number of steps between low and up\n",
    "            low : Lower limit / frequency to start from\n",
    "            up : Upper limit / frequency to terminate generation at\n",
    "        '''\n",
    "        self.v0 = v0\n",
    "        self.d = d\n",
    "        self.res = res\n",
    "        self.low = low / 10 ** 7\n",
    "        self.up = up / 10 ** 7\n",
    "        self.wavelengths = []\n",
    "        self.intensities = []\n",
    "\n",
    "    def generate(self):\n",
    "        '''\n",
    "        Generates list of intensities for the spectrum\n",
    "        '''\n",
    "        # Clears list of intensities and wavelengths\n",
    "        self.intensities = []\n",
    "        self.wavelengths = []\n",
    "        # Finds the step value for the simulation\n",
    "        STEP = (self.up - self.low) / self.res\n",
    "        # Runs for loop, iterating across all wavelengths\n",
    "        for i in range(self.res):\n",
    "            # Wavelength\n",
    "            w = self.low + (i * STEP)\n",
    "            # Add wavelength to list of wavelengths\n",
    "            self.wavelengths.append(w * 10**7)\n",
    "            # Calculate intensity for wavelength\n",
    "            intensity = calcIntensity(w, self.v0, self.d)\n",
    "            # Add intensity to list of intensities\n",
    "            self.intensities.append(intensity)\n",
    "\n",
    "    def show(self, save=False):\n",
    "        plt.plot(self.wavelengths, self.intensities)\n",
    "        plt.xlabel(\"Wavelength (nm)\")\n",
    "        plt.ylabel(\"Intensity\")\n",
    "        plt.title(\"Spectrum\")\n",
    "        plt.show()\n",
    "        if not save:\n",
    "            return None\n",
    "\n",
    "        if not os.path.exists('Plots'):\n",
    "            os.mkdir('Plots')\n",
    "\n",
    "        plt.savefig(f'Plots/{self.v0}_{self.d}_{self.res}_{self.low}_{self.up}.jpg')\n",
    "\n",
    "    def __len__(self):\n",
    "        return len(self.intensities)\n",
    "\n",
    "    def __repr__(self):\n",
    "        return f\"Central Frequency : {self.v0}\\nThickness of slab : {self.d}\""
   ]
  },
  {
   "cell_type": "markdown",
   "id": "alleged-twenty",
   "metadata": {},
   "source": [
    "Now that we've created a class, let's try and generate the spectrum for the first subdivision, where\n",
    "$$\n",
    "d = 10^{14} cm\n",
    "$$"
   ]
  },
  {
   "cell_type": "code",
   "execution_count": 10,
   "id": "nervous-relay",
   "metadata": {},
   "outputs": [
    {
     "data": {
      "image/png": "[encoded data removed]",
      "text/plain": [
       "<Figure size 432x288 with 1 Axes>"
      ]
     },
     "metadata": {
      "needs_background": "light"
     },
     "output_type": "display_data"
    }
   ],
   "source": [
    "'''\n",
    "Parameters:\n",
    "v0 = 2.46607 x 10 ^ 15 ( Central Frequency )\n",
    "d = 10 ^ 14 ( Thickness of slab )\n",
    "res = 1000 ( Resolution of graph / Number of wavelengths calculated )\n",
    "low = 0 ( Lower limit of wavelength to start the plot )\n",
    "up = 1000 ( Upper limit of wavelength to end the plot )\n",
    "'''\n",
    "# Create object of the spectrum class with the above properties\n",
    "obj = Spectrum(2.46607e15, 10e14, 1000, 1, 1000)\n",
    "# Calculate the data required for the plot\n",
    "obj.generate()\n",
    "# Show the plot\n",
    "obj.show()"
   ]
  },
  {
   "cell_type": "markdown",
   "id": "tender-struggle",
   "metadata": {},
   "source": [
    "Whoops! That doesn't look right. As we can see, there are a couple of issues with our parameters.\n",
    "For starters, we had defined the unit of the x-axis of the graph to be in nanometers, but the class takes input in cm. We fix that first, and run the plot again."
   ]
  },
  {
   "cell_type": "code",
   "execution_count": 13,
   "id": "honey-intro",
   "metadata": {},
   "outputs": [
    {
     "data": {
      "image/png": "[encoded data removed]",
      "text/plain": [
       "<Figure size 432x288 with 1 Axes>"
      ]
     },
     "metadata": {
      "needs_background": "light"
     },
     "output_type": "display_data"
    }
   ],
   "source": [
    "# Create object of the spectrum class with the above properties\n",
    "obj = Spectrum(2.46607e15, 10e14, 1000, 1, 1000)\n",
    "# Calculate the data required for the plot\n",
    "obj.generate()\n",
    "# Show the plot\n",
    "obj.show()"
   ]
  },
  {
   "cell_type": "markdown",
   "id": "lovely-vulnerability",
   "metadata": {},
   "source": [
    "Now that looks more like what we're looking for. But upon closely examining the axes, we can see that we have a couple of issues with this plot.\n",
    "\n",
    "1. We have no way of figuring out where this lies on the x-axis\n",
    "2. The y-axis is dealing with values where we're only messing with the last digit of 1.000000. That means that despite us noticing a dip here, the change in intensity is negligible.\n",
    "\n",
    "So, how do we fix these issues?\n",
    "We can fix '1' by adding a couple of print statements, as shown below."
   ]
  },
  {
   "cell_type": "code",
   "execution_count": 15,
   "id": "adult-witch",
   "metadata": {},
   "outputs": [
    {
     "name": "stdout",
     "output_type": "stream",
     "text": [
      "-----------------------------\n",
      "Number of wavelengths sampled:  1000\n",
      "Central Frequency : 2466070000000000.0\n",
      "Thickness of slab : 1000000000000000.0\n",
      "Wavelength of Minimum Intensity:  121.879 nm\n",
      "Minimum Intensity:  0.999999259598372\n"
     ]
    },
    {
     "data": {
      "image/png": "[encoded data removed]",
      "text/plain": [
       "<Figure size 432x288 with 1 Axes>"
      ]
     },
     "metadata": {
      "needs_background": "light"
     },
     "output_type": "display_data"
    },
    {
     "name": "stdout",
     "output_type": "stream",
     "text": [
      "-----------------------------\n"
     ]
    }
   ],
   "source": [
    "print(\"-----------------------------\")\n",
    "print(\"Number of wavelengths sampled: \", len(obj))\n",
    "print(obj)\n",
    "# We select the wavelength for which we have a corresponding minimum intensity\n",
    "# In retrospect, using dictionaries could have made this step easier.\n",
    "print(\"Wavelength of Minimum Intensity: \",\n",
    "      obj.wavelengths[obj.intensities.index(min(obj.intensities))],\n",
    "      \"nm\")\n",
    "# Now, we print the minimum intensity\n",
    "print(\"Minimum Intensity: \",\n",
    "      obj.intensities[obj.intensities.index(min(obj.intensities))])\n",
    "obj.show()\n",
    "print(\"-----------------------------\")"
   ]
  },
  {
   "cell_type": "markdown",
   "id": "accessory-model",
   "metadata": {},
   "source": [
    "Now we're getting somewhere. First things first. From the statements above, we can make the following observations from the graph:\n",
    "1. The wavelength we're looking at is 121.879 nm\n",
    "2. The minimum intensity we observe is 0.999999259598372\n",
    "\n",
    "With these observations, we can make the following inferences:\n",
    "\n",
    "1. Narrowing the search to around 121 nm could yield us better results with respect to the task at hand.\n",
    "2. The intensity dip, although negligible, tells us that we're on the right track.\n",
    "\n",
    "So now, let's generate the spectrum again, armed with these insights!"
   ]
  },
  {
   "cell_type": "code",
   "execution_count": 17,
   "id": "purple-winter",
   "metadata": {},
   "outputs": [
    {
     "name": "stdout",
     "output_type": "stream",
     "text": [
      "-----------------------------\n",
      "Number of wavelengths sampled:  1000\n",
      "Central Frequency : 2466070000000000.0\n",
      "Thickness of slab : 1000000000000000.0\n",
      "Wavelength of Minimum Intensity:  121.66 nm\n",
      "Minimum Intensity:  0.9995217550795075\n"
     ]
    },
    {
     "data": {
      "image/png": "[encoded data removed]",
      "text/plain": [
       "<Figure size 432x288 with 1 Axes>"
      ]
     },
     "metadata": {
      "needs_background": "light"
     },
     "output_type": "display_data"
    },
    {
     "name": "stdout",
     "output_type": "stream",
     "text": [
      "-----------------------------\n"
     ]
    }
   ],
   "source": [
    "# Create object of the spectrum class with the above properties\n",
    "obj = Spectrum(2.46607e15, 10e14, 1000, 115, 135)\n",
    "# Calculate the data required for the plot\n",
    "obj.generate()\n",
    "\n",
    "print(\"-----------------------------\")\n",
    "print(\"Number of wavelengths sampled: \", len(obj))\n",
    "print(obj)\n",
    "# We select the wavelength for which we have a corresponding minimum intensity\n",
    "# In retrospect, using dictionaries could have made this step easier.\n",
    "print(\"Wavelength of Minimum Intensity: \",\n",
    "      obj.wavelengths[obj.intensities.index(min(obj.intensities))],\n",
    "      \"nm\")\n",
    "# Now, we print the minimum intensity\n",
    "print(\"Minimum Intensity: \",\n",
    "      obj.intensities[obj.intensities.index(min(obj.intensities))])\n",
    "obj.show()\n",
    "print(\"-----------------------------\")"
   ]
  },
  {
   "cell_type": "markdown",
   "id": "helpful-internship",
   "metadata": {},
   "source": [
    "Now although we've reduced the search radius, we can clearly see that our intensity woes are yet to be meaningfully addressed. We've managed to get the intensity to drop from 0.999999259598372 to 0.9995217550795075. This is an indication that we're moving in the right direction, but we can do better.\n",
    "\n",
    "The issue here, is that we're only sampling 1000 wavelenghts between 115 and 135 nm. In normal physics systems, this kind of search would be pretty effective at helping us find a local solution. But here, we're dealing with quantum mechanics. The energy levels are discrete, and photons quantised. This means that unless we get a value which is *very* close to the true value, we will not be able to observe that which we've set out to plot.\n",
    "\n",
    "Unfortunately for us, the only way to do that is by increasing the resolution of the graph. By running the calculations for more values of intermediate wavelengths and hoping to stumble on the values we're searching for is our best shot. So brute force it is.\n",
    "\n",
    "*Note : I wasn't able to find any kind of searching algorithm for this case, to find the solutions. If there's any kind of algorithm apart from brute force which we can use here, feel free to reach out. I'd love to have a discussion with you and learn more :)*\n",
    "\n",
    "For brute force, we start off by just cranking the 'res' parameter till it reaches a large value. For now, 10 ^ 6 sounds like a good value. So let's try it out down below!"
   ]
  },
  {
   "cell_type": "code",
   "execution_count": 18,
   "id": "natural-tolerance",
   "metadata": {},
   "outputs": [
    {
     "name": "stdout",
     "output_type": "stream",
     "text": [
      "-----------------------------\n",
      "Number of wavelengths sampled:  1000000\n",
      "Central Frequency : 2466070000000000.0\n",
      "Thickness of slab : 1000000000000000.0\n",
      "Wavelength of Minimum Intensity:  121.65104000000001 nm\n",
      "Minimum Intensity:  4.453076925392638e-237\n"
     ]
    },
    {
     "data": {
      "image/png": "[encoded data removed]",
      "text/plain": [
       "<Figure size 432x288 with 1 Axes>"
      ]
     },
     "metadata": {
      "needs_background": "light"
     },
     "output_type": "display_data"
    },
    {
     "name": "stdout",
     "output_type": "stream",
     "text": [
      "-----------------------------\n"
     ]
    }
   ],
   "source": [
    "# Create object of the spectrum class with the above properties\n",
    "obj = Spectrum(2.46607e15, 10e14, 10 ** 6, 115, 135)\n",
    "# Calculate the data required for the plot\n",
    "obj.generate()\n",
    "\n",
    "print(\"-----------------------------\")\n",
    "print(\"Number of wavelengths sampled: \", len(obj))\n",
    "print(obj)\n",
    "# We select the wavelength for which we have a corresponding minimum intensity\n",
    "# In retrospect, using dictionaries could have made this step easier.\n",
    "print(\"Wavelength of Minimum Intensity: \",\n",
    "      obj.wavelengths[obj.intensities.index(min(obj.intensities))],\n",
    "      \"nm\")\n",
    "# Now, we print the minimum intensity\n",
    "print(\"Minimum Intensity: \",\n",
    "      obj.intensities[obj.intensities.index(min(obj.intensities))])\n",
    "obj.show()\n",
    "print(\"-----------------------------\")"
   ]
  },
  {
   "cell_type": "markdown",
   "id": "pediatric-thirty",
   "metadata": {},
   "source": [
    "Now that's more like it! The value of minimum intensity is in the range of 10 ^ -237, which we can assume to be 0. This gets us a wavelength of 121.65104000000001 nm.\n",
    "\n",
    "An interesting observation we can make here, is with regards to the steepness with which the value falls. At 121.66 nm, almost no light was being absorbed. But for a wavelength almost just 0.01 *nm* shorter, almost all the light gets absorbed.\n",
    "\n",
    "This above observation raises an interesting question, though. Can we find the \"width\" of this fall, in the spectrum? Can we find the first wavelength at which the intensity starts decreasing by a non-negligible number, and also the wavelength at which the intensity again appears to reach it's non-negligible change state?\n",
    "\n",
    "Let's try that out down below!"
   ]
  },
  {
   "cell_type": "code",
   "execution_count": 22,
   "id": "antique-liabilities",
   "metadata": {},
   "outputs": [],
   "source": [
    "# If intensity drops below this value, we assume it to be the start of the fall.\n",
    "# If intensity jumps above this value, we assume the fall has ended.\n",
    "THRESHOLD = 0.999\n",
    "# Initialise the values of these markers\n",
    "low = None\n",
    "high = None\n",
    "\n",
    "# Loop through all the wavelengths in the list to find these values\n",
    "for i in range(len(obj.intensities)):\n",
    "    intensity = obj.intensities[i]\n",
    "    wavelength = obj.wavelengths[i]\n",
    "    \n",
    "    # If the intensity is dropping below the treshold the first time\n",
    "    if intensity < THRESHOLD and not low:\n",
    "        low = wavelength\n",
    "    \n",
    "    # If the intensity jumps above the treshold for the first time\n",
    "    if intensity > THRESHOLD and low:\n",
    "        high = wavelength\n",
    "        # Exit the loop, for obvious reasons\n",
    "        break"
   ]
  },
  {
   "cell_type": "code",
   "execution_count": 26,
   "id": "unable-worse",
   "metadata": {},
   "outputs": [
    {
     "name": "stdout",
     "output_type": "stream",
     "text": [
      "-----------------------------\n",
      "Number of wavelengths sampled:  1000000\n",
      "Central Frequency : 2466070000000000.0\n",
      "Thickness of slab : 1000000000000000.0\n",
      "Wavelength of Minimum Intensity:  121.65104000000001 nm\n",
      "Minimum Intensity:  4.453076925392638e-237\n",
      "-----------------------------\n",
      "The threshold we've set is:  0.999\n",
      "Lower wavelength is:  121.64486000000001 nm\n",
      "Upper wavelength is:  121.65724 nm\n",
      "Bandwidth is:  0.012379999999993174 nm\n"
     ]
    },
    {
     "data": {
      "image/png": "[encoded data removed]",
      "text/plain": [
       "<Figure size 432x288 with 1 Axes>"
      ]
     },
     "metadata": {
      "needs_background": "light"
     },
     "output_type": "display_data"
    },
    {
     "name": "stdout",
     "output_type": "stream",
     "text": [
      "-----------------------------\n"
     ]
    }
   ],
   "source": [
    "print(\"-----------------------------\")\n",
    "print(\"Number of wavelengths sampled: \", len(obj))\n",
    "print(obj)\n",
    "print(\"Wavelength of Minimum Intensity: \",\n",
    "      obj.wavelengths[obj.intensities.index(min(obj.intensities))],\n",
    "      \"nm\")\n",
    "# Now, we print the minimum intensity\n",
    "print(\"Minimum Intensity: \",\n",
    "      obj.intensities[obj.intensities.index(min(obj.intensities))])\n",
    "print(\"-----------------------------\")\n",
    "print(\"The threshold we've set is: \", THRESHOLD)\n",
    "print(\"Lower wavelength is: \", low, \"nm\")\n",
    "print(\"Upper wavelength is: \", high, \"nm\")\n",
    "print(\"Bandwidth is: \", high-low, \"nm\")\n",
    "obj.show()\n",
    "print(\"-----------------------------\")"
   ]
  },
  {
   "cell_type": "markdown",
   "id": "substantial-invite",
   "metadata": {},
   "source": [
    "With all this information about the generated spectrum, we can make the following inferences:\n",
    "\n",
    "For a gas slab with thickness 10 ^ 14 cm\n",
    "\n",
    "1. The wavelength 121.65104000000001 nm gets absorbed the most\n",
    "2. The minimum intensity observed within the range of 115 to 135 nm is 4.453076925392638e-237\n",
    "3. For an intensity threshold of 0.999, we observe a bandwidth of 0.012379999999993174 nm wherein the gas medium absorbs the incident light.\n",
    "\n",
    "Now that we've made these observations for this case, it's time to do the same for the remaining two cases (d = 10 ^ 18 cm and d = 10 ^ 21 cm)\n",
    "\n",
    "The results for those two values of slab thickness can be found below."
   ]
  },
  {
   "cell_type": "code",
   "execution_count": 27,
   "id": "temporal-sugar",
   "metadata": {},
   "outputs": [
    {
     "name": "stdout",
     "output_type": "stream",
     "text": [
      "-----------------------------\n",
      "Number of wavelengths sampled:  1000000\n",
      "Central Frequency : 2466070000000000.0\n",
      "Thickness of slab : 1e+19\n",
      "Wavelength of Minimum Intensity:  121.65033999999999 nm\n",
      "Minimum Intensity:  0.0\n",
      "-----------------------------\n",
      "The threshold we've set is:  0.999\n",
      "Lower wavelength is:  121.03523999999999 nm\n",
      "Upper wavelength is:  122.27318 nm\n",
      "Bandwidth is:  1.237940000000009 nm\n"
     ]
    },
    {
     "data": {
      "image/png": "[encoded data removed]",
      "text/plain": [
       "<Figure size 432x288 with 1 Axes>"
      ]
     },
     "metadata": {
      "needs_background": "light"
     },
     "output_type": "display_data"
    },
    {
     "name": "stdout",
     "output_type": "stream",
     "text": [
      "-----------------------------\n"
     ]
    }
   ],
   "source": [
    "# v0 = 2.46607 * 10 ^ 15\n",
    "# d = 10 ^ 18\n",
    "# Create object of the spectrum class with the above properties\n",
    "obj = Spectrum(2.46607e15, 10e18, 10 ** 6, 115, 135)\n",
    "# Calculate the data required for the plot\n",
    "obj.generate()\n",
    "# -------------------------------------------------------------------\n",
    "# If intensity drops below this value, we assume it to be the start of the fall.\n",
    "# If intensity jumps above this value, we assume the fall has ended.\n",
    "THRESHOLD = 0.999\n",
    "# Initialise the values of these markers\n",
    "low = None\n",
    "high = None\n",
    "\n",
    "# Loop through all the wavelengths in the list to find these values\n",
    "for i in range(len(obj.intensities)):\n",
    "    intensity = obj.intensities[i]\n",
    "    wavelength = obj.wavelengths[i]\n",
    "    \n",
    "    # If the intensity is dropping below the treshold the first time\n",
    "    if intensity < THRESHOLD and not low:\n",
    "        low = wavelength\n",
    "    \n",
    "    # If the intensity jumps above the treshold for the first time\n",
    "    if intensity > THRESHOLD and low:\n",
    "        high = wavelength\n",
    "        # Exit the loop, for obvious reasons\n",
    "        break\n",
    "# -------------------------------------------------------------------\n",
    "print(\"-----------------------------\")\n",
    "print(\"Number of wavelengths sampled: \", len(obj))\n",
    "print(obj)\n",
    "print(\"Wavelength of Minimum Intensity: \",\n",
    "      obj.wavelengths[obj.intensities.index(min(obj.intensities))],\n",
    "      \"nm\")\n",
    "# Now, we print the minimum intensity\n",
    "print(\"Minimum Intensity: \",\n",
    "      obj.intensities[obj.intensities.index(min(obj.intensities))])\n",
    "print(\"-----------------------------\")\n",
    "print(\"The threshold we've set is: \", THRESHOLD)\n",
    "print(\"Lower wavelength is: \", low, \"nm\")\n",
    "print(\"Upper wavelength is: \", high, \"nm\")\n",
    "print(\"Bandwidth is: \", high-low, \"nm\")\n",
    "obj.show()\n",
    "print(\"-----------------------------\")"
   ]
  },
  {
   "cell_type": "markdown",
   "id": "derived-function",
   "metadata": {},
   "source": [
    "From this, we can make the following observations :\n",
    "\n",
    "For a gas slab with thickness 10 ^ 18 cm\n",
    "\n",
    "1. The wavelength 121.65033999999999 nm gets absorbed the most\n",
    "2. The minimum intensity observed within the range of 115 to 135 nm is 0.0\n",
    "3. For an intensity threshold of 0.999, we observe a bandwidth of 1.237940000000009 nm wherein the gas medium absorbs the incident light.\n",
    "\n",
    "From this, we can see that with an increase in the distance travelled across the medium, we have an increase in the bandwidth at which the light gets absorbed."
   ]
  },
  {
   "cell_type": "code",
   "execution_count": 33,
   "id": "behavioral-merchant",
   "metadata": {},
   "outputs": [
    {
     "name": "stdout",
     "output_type": "stream",
     "text": [
      "-----------------------------\n",
      "Number of wavelengths sampled:  10000000\n",
      "Central Frequency : 2466070000000000.0\n",
      "Thickness of slab : 1e+22\n",
      "Wavelength of Minimum Intensity:  121.62837599999999 nm\n",
      "Minimum Intensity:  0.0\n",
      "-----------------------------\n",
      "The threshold we've set is:  0.99\n",
      "Lower wavelength is:  115.77387599999999 nm\n",
      "Upper wavelength is:  128.156836 nm\n",
      "Bandwidth is:  12.382960000000011 nm\n"
     ]
    },
    {
     "data": {
      "image/png": "[encoded data removed]",
      "text/plain": [
       "<Figure size 432x288 with 1 Axes>"
      ]
     },
     "metadata": {
      "needs_background": "light"
     },
     "output_type": "display_data"
    },
    {
     "name": "stdout",
     "output_type": "stream",
     "text": [
      "-----------------------------\n"
     ]
    }
   ],
   "source": [
    "# v0 = 2.46607 * 10 ^ 15\n",
    "# d = 10 ^ 21\n",
    "# Create object of the spectrum class with the above properties\n",
    "obj = Spectrum(2.46607e15, 10e21, 10 ** 7, 105, 145)\n",
    "# Calculate the data required for the plot\n",
    "obj.generate()\n",
    "# -------------------------------------------------------------------\n",
    "# If intensity drops below this value, we assume it to be the start of the fall.\n",
    "# If intensity jumps above this value, we assume the fall has ended.\n",
    "THRESHOLD = 0.99\n",
    "# Initialise the values of these markers\n",
    "low = None\n",
    "high = None\n",
    "\n",
    "# Loop through all the wavelengths in the list to find these values\n",
    "for i in range(len(obj.intensities)):\n",
    "    intensity = obj.intensities[i]\n",
    "    wavelength = obj.wavelengths[i]\n",
    "    \n",
    "    # If the intensity is dropping below the treshold the first time\n",
    "    if intensity < THRESHOLD and not low:\n",
    "        low = wavelength\n",
    "    \n",
    "    # If the intensity jumps above the treshold for the first time\n",
    "    if intensity > THRESHOLD and low:\n",
    "        high = wavelength\n",
    "        # Exit the loop, for obvious reasons\n",
    "        break\n",
    "# -------------------------------------------------------------------\n",
    "print(\"-----------------------------\")\n",
    "print(\"Number of wavelengths sampled: \", len(obj))\n",
    "print(obj)\n",
    "print(\"Wavelength of Minimum Intensity: \",\n",
    "      obj.wavelengths[obj.intensities.index(min(obj.intensities))],\n",
    "      \"nm\")\n",
    "# Now, we print the minimum intensity\n",
    "print(\"Minimum Intensity: \",\n",
    "      obj.intensities[obj.intensities.index(min(obj.intensities))])\n",
    "print(\"-----------------------------\")\n",
    "print(\"The threshold we've set is: \", THRESHOLD)\n",
    "print(\"Lower wavelength is: \", low, \"nm\")\n",
    "print(\"Upper wavelength is: \", high, \"nm\")\n",
    "print(\"Bandwidth is: \", high-low, \"nm\")\n",
    "obj.show()\n",
    "print(\"-----------------------------\")"
   ]
  },
  {
   "cell_type": "markdown",
   "id": "dominican-sodium",
   "metadata": {},
   "source": [
    "From this, we can make the following observations :\n",
    "\n",
    "For a gas slab with thickness 10 ^ 21 cm\n",
    "\n",
    "1. The wavelength 121.62837599999999 nm gets absorbed the most\n",
    "2. The minimum intensity observed within the range of 105 to 145 nm is 0.0\n",
    "3. For an intensity threshold of 0.99, we observe a bandwidth of 12.382960000000011 nm wherein the gas medium absorbs the incident light.\n",
    "\n",
    "We had to update the threshold and calculation range for this case, to account for the fact that atleast some of the light was getting absorbed by the gas at all wavelengths. This means that for very large distances of travel, we have atleast some of the light getting absorbed along the way without the wavelength being exactly equal to the transition, which implies one of the following cases being true:\n",
    "\n",
    "1. We've broken the formula by throwing huge inputs at it.\n",
    "2. Electron's are not as picky as we've been led to belive and will absorb photons regardless of their wavelength, but at a very low probabilities. Hence, we need very long distances to observe this phenomenon."
   ]
  },
  {
   "cell_type": "markdown",
   "id": "living-pavilion",
   "metadata": {},
   "source": [
    "Now, let's generate the spectra for the other 3 cases, by changing the value of the central frequency (v0)"
   ]
  },
  {
   "cell_type": "code",
   "execution_count": 38,
   "id": "lesbian-strap",
   "metadata": {},
   "outputs": [],
   "source": [
    "# I just realised that we've been writing this same block of code a *lot* of times.\n",
    "# So it's been wrapped up into a function.\n",
    "def doEverything(obj):\n",
    "    # Calculate the data required for the plot\n",
    "    obj.generate()\n",
    "    # -------------------------------------------------------------------\n",
    "    # If intensity drops below this value, we assume it to be the start of the fall.\n",
    "    # If intensity jumps above this value, we assume the fall has ended.\n",
    "    THRESHOLD = 0.999\n",
    "    # Initialise the values of these markers\n",
    "    low = None\n",
    "    high = None\n",
    "\n",
    "    # Loop through all the wavelengths in the list to find these values\n",
    "    for i in range(len(obj.intensities)):\n",
    "        intensity = obj.intensities[i]\n",
    "        wavelength = obj.wavelengths[i]\n",
    "\n",
    "        # If the intensity is dropping below the treshold the first time\n",
    "        if intensity < THRESHOLD and not low:\n",
    "            low = wavelength\n",
    "\n",
    "        # If the intensity jumps above the treshold for the first time\n",
    "        if intensity > THRESHOLD and low:\n",
    "            high = wavelength\n",
    "            # Exit the loop, for obvious reasons\n",
    "            break\n",
    "    # -------------------------------------------------------------------\n",
    "    print(\"-----------------------------\")\n",
    "    print(\"Number of wavelengths sampled: \", len(obj))\n",
    "    print(obj)\n",
    "    print(\"Wavelength of Minimum Intensity: \",\n",
    "          obj.wavelengths[obj.intensities.index(min(obj.intensities))],\n",
    "          \"nm\")\n",
    "    # Now, we print the minimum intensity\n",
    "    print(\"Minimum Intensity: \",\n",
    "          obj.intensities[obj.intensities.index(min(obj.intensities))])\n",
    "    print(\"-----------------------------\")\n",
    "    print(\"The threshold we've set is: \", THRESHOLD)\n",
    "    print(\"Lower wavelength is: \", low, \"nm\")\n",
    "    print(\"Upper wavelength is: \", high, \"nm\")\n",
    "    print(\"Bandwidth is: \", high-low, \"nm\")\n",
    "    obj.show()\n",
    "    print(\"-----------------------------\")"
   ]
  },
  {
   "cell_type": "code",
   "execution_count": 39,
   "id": "twenty-manufacturer",
   "metadata": {},
   "outputs": [
    {
     "name": "stdout",
     "output_type": "stream",
     "text": [
      "-----------------------------\n",
      "Number of wavelengths sampled:  1000000\n",
      "Central Frequency : 2466320000000000.0\n",
      "Thickness of slab : 1000000000000000.0\n",
      "Wavelength of Minimum Intensity:  121.63872 nm\n",
      "Minimum Intensity:  0.0\n",
      "-----------------------------\n",
      "The threshold we've set is:  0.999\n",
      "Lower wavelength is:  121.63254 nm\n",
      "Upper wavelength is:  121.64492 nm\n",
      "Bandwidth is:  0.012379999999993174 nm\n"
     ]
    },
    {
     "data": {
      "image/png": "[encoded data removed]",
      "text/plain": [
       "<Figure size 432x288 with 1 Axes>"
      ]
     },
     "metadata": {
      "needs_background": "light"
     },
     "output_type": "display_data"
    },
    {
     "name": "stdout",
     "output_type": "stream",
     "text": [
      "-----------------------------\n"
     ]
    }
   ],
   "source": [
    "# v0 = 2.46632 * 10 ^ 15\n",
    "# d = 10 ^ 14\n",
    "# Create object of the spectrum class with the above properties\n",
    "obj = Spectrum(2.46632e15, 10e14, 10 ** 6, 115, 135)\n",
    "doEverything(obj)"
   ]
  },
  {
   "cell_type": "markdown",
   "id": "disciplinary-palmer",
   "metadata": {},
   "source": [
    "From the above graph, we can see that\n",
    "\n",
    "1. The wavelength 121.63872 nm gets absorbed the most\n",
    "2. The minimum intensity observed within the range of 115 to 135 nm is 0\n",
    "3. For an intensity threshold of 0.999, we observe a bandwidth of 0.012379999999993174 nm wherein the gas medium absorbs the incident light.\n",
    "\n",
    "Now, let's move on to a thickness of 10 ^ 18 cm"
   ]
  },
  {
   "cell_type": "code",
   "execution_count": 40,
   "id": "formed-journalism",
   "metadata": {},
   "outputs": [
    {
     "name": "stdout",
     "output_type": "stream",
     "text": [
      "-----------------------------\n",
      "Number of wavelengths sampled:  1000000\n",
      "Central Frequency : 2466320000000000.0\n",
      "Thickness of slab : 1e+19\n",
      "Wavelength of Minimum Intensity:  121.638 nm\n",
      "Minimum Intensity:  0.0\n",
      "-----------------------------\n",
      "The threshold we've set is:  0.999\n",
      "Lower wavelength is:  121.02304000000001 nm\n",
      "Upper wavelength is:  122.26071999999999 nm\n",
      "Bandwidth is:  1.2376799999999832 nm\n"
     ]
    },
    {
     "data": {
      "image/png": "[encoded data removed]",
      "text/plain": [
       "<Figure size 432x288 with 1 Axes>"
      ]
     },
     "metadata": {
      "needs_background": "light"
     },
     "output_type": "display_data"
    },
    {
     "name": "stdout",
     "output_type": "stream",
     "text": [
      "-----------------------------\n"
     ]
    }
   ],
   "source": [
    "# v0 = 2.46632 * 10 ^ 15\n",
    "# d = 10 ^ 18\n",
    "# Create object of the spectrum class with the above properties\n",
    "obj = Spectrum(2.46632e15, 10e18, 10 ** 6, 115, 135)\n",
    "doEverything(obj)"
   ]
  },
  {
   "cell_type": "markdown",
   "id": "consecutive-masters",
   "metadata": {},
   "source": [
    "From the above graph, we can see that\n",
    "\n",
    "1. The wavelength 121.638 nm gets absorbed the most\n",
    "2. The minimum intensity observed within the range of 115 to 135 nm is 0\n",
    "3. For an intensity threshold of 0.999, we observe a bandwidth of 1.2376799999999832 nm wherein the gas medium absorbs the incident light.\n",
    "\n",
    "Now, let's move on to a thickness of 10 ^ 21 cm"
   ]
  },
  {
   "cell_type": "code",
   "execution_count": 43,
   "id": "corrected-projector",
   "metadata": {},
   "outputs": [
    {
     "name": "stdout",
     "output_type": "stream",
     "text": [
      "-----------------------------\n",
      "Number of wavelengths sampled:  10000000\n",
      "Central Frequency : 2466320000000000.0\n",
      "Thickness of slab : 1e+22\n",
      "Wavelength of Minimum Intensity:  121.61605000000002 nm\n",
      "Minimum Intensity:  0.0\n",
      "-----------------------------\n",
      "The threshold we've set is:  0.999\n",
      "Lower wavelength is:  104.78169000000001 nm\n",
      "Upper wavelength is:  144.95945 nm\n",
      "Bandwidth is:  40.17775999999999 nm\n"
     ]
    },
    {
     "data": {
      "image/png": "[encoded data removed]",
      "text/plain": [
       "<Figure size 432x288 with 1 Axes>"
      ]
     },
     "metadata": {
      "needs_background": "light"
     },
     "output_type": "display_data"
    },
    {
     "name": "stdout",
     "output_type": "stream",
     "text": [
      "-----------------------------\n"
     ]
    }
   ],
   "source": [
    "# v0 = 2.46632 * 10 ^ 15\n",
    "# d = 10 ^ 21\n",
    "# Create object of the spectrum class with the above properties\n",
    "obj = Spectrum(2.46632e15, 10e21, 10 ** 7, 100, 150)\n",
    "doEverything(obj)"
   ]
  },
  {
   "cell_type": "markdown",
   "id": "fourth-welding",
   "metadata": {},
   "source": [
    "For the above graph, we can see that:\n",
    "\n",
    "1. The wavelength 121.61605000000002 nm gets absorbed the most\n",
    "2. The minimum intensity observed within the range of 100 to 150 nm is 0.0\n",
    "3. For an intensity threshold of 0.999, we observe a bandwidth of 40.17775999999999 nm wherein the gas medium absorbs the incident light."
   ]
  },
  {
   "cell_type": "markdown",
   "id": "gross-sight",
   "metadata": {},
   "source": [
    "Now there are a couple of things to note here, before we wrap up.\n",
    "\n",
    "As we know, we've focused on a specific transition and spent our time trying to generate that particular spectral line. The transition we were focussing on is that of an electron in the n=1 energy state of a Hydrogen atom which absorbs a photon and jumps up to n=2. We know that the actual value of the wavelength at which this transition occurs is around 121.567 nm. The value we got from the formula came out to be around 121.63 nm, which gives an error of about 0.0518%.\n",
    "\n",
    "Also, the thresholds of 0.999 and 0.99 were arbitrarily chosen, to serve as guide posts for further inferences. Their physical meaning is that the intensity of the light observed is less than 0.999 or 0.99. Although this kind of intensity dip is most likely to be indistinguishable from sensor noise in the real world, we roll with it anyway as we're working with noise-less, generated data.\n",
    "\n",
    "Another thing to note here is that the wavelength for the \"minimum\" intensity observed is found from the smallest element in the list. We have not checked if the minimum intensity value (0) has been observed for multiple wavelengths. This is especially important to make note of in the second set of graphs, where we used v0 = 2.46632 * 10 ^ 15 Hz, because from the generated graphs it looks like there might be multiple wavelengths which are completely absorbed by the atoms. But since this doesn't make much sense (we should ideally have only one wavelength of maximum absorption), I have written off this issue as an unfortunate consequence of stressing a formula beyond it's natural limits."
   ]
  },
  {
   "cell_type": "markdown",
   "id": "false-caution",
   "metadata": {},
   "source": [
    "This concludes the detailed explanation about how we got the graphs we did. Check the Short version for the final answers."
   ]
  }
 ],
 "metadata": {
  "kernelspec": {
   "display_name": "Python 3",
   "language": "python",
   "name": "python3"
  },
  "language_info": {
   "codemirror_mode": {
    "name": "ipython",
    "version": 3
   },
   "file_extension": ".py",
   "mimetype": "text/x-python",
   "name": "python",
   "nbconvert_exporter": "python",
   "pygments_lexer": "ipython3",
   "version": "3.9.2"
  }
 },
 "nbformat": 4,
 "nbformat_minor": 5
}
