{
 "cells": [
  {
   "cell_type": "markdown",
   "id": "extraordinary-assistant",
   "metadata": {},
   "source": [
    "# This notebook contains the solution for task 2 (Astrophysical Absorption Line Exercise)\n",
    "***\n",
    "This is the short version of the solution for the second task. It only contains to-the-point, direct answers for the task. Check the Detailed solution for a comprehensive explanation of *how* I got these results.\n",
    "***\n",
    "By : [Naimish Mani B](https://www.github.com/Naimish240)\n",
    "***\n",
    "From the problem statement, we know that we need to generate the spectrum of light after it passes through a slab of gas.\n",
    "***\n",
    "## TOC:\n",
    "* [PREFACE](#first-bullet)\n",
    "* [CODE](#code-bullet)\n",
    "* [Part 1](#second-bullet)\n",
    "* [Part 2](#sec-bullet)\n",
    "* [Part 3](#third-bullet)\n",
    "    - [Note](#note-bullet)\n",
    "    - [Similarities](#sim-bullet)\n",
    "    - [Differences](#diff-bullet)\n",
    "* [Improvements](#imp-bullet)\n",
    "***\n",
    "# **PREFACE** <a class=\"anchor\" id=\"first-bullet\"></a>\n",
    "\n",
    "The formula for this has been provided, and is as follows:\n",
    "1. Formula for the Absorption Coefficient\n",
    "$$\n",
    "\\alpha(\\upsilon) = \\frac{e^{2}fn_{H}}{4\\pi m_ec}\\frac{(1-x)g_o}{Z}\\frac{G}{(\\upsilon - \\upsilon_{0})^{2}+(\\frac{G}{4\\pi})^{2}}\n",
    "$$\n",
    "\n",
    "2. Formula for Intensity\n",
    "$$\n",
    "I(\\lambda) = e^{-\\alpha(\\upsilon)d}\n",
    "$$\n",
    "\n",
    "From these formulae, we know that the conditions for us to get the condition\n",
    "\n",
    "$$\n",
    "I = 0\n",
    "$$\n",
    "\n",
    "are either\n",
    "\n",
    "$$\n",
    "d = \\infty\n",
    "$$\n",
    "\n",
    "or\n",
    "\n",
    "$$\n",
    "\\upsilon_{0} = \\upsilon\n",
    "$$\n",
    "\n",
    "Ignoring the first case, this leaves us with the solutions\n",
    "\n",
    "$$\n",
    "\\lambda = 121.651048, \\upsilon_{0} = 2.46607 \\times 10^{15} Hz\n",
    "$$\n",
    "$$\n",
    "\\lambda = 121.638717, \\upsilon_{0} = 2.46632 \\times 10^{15} Hz\n",
    "$$\n",
    "\n",
    "NOTE : We use c = 3 * 10 ^ 10 cm/s.\n",
    "***\n",
    "# **Code** <a class=\"anchor\" id=\"code-bullet\"></a>"
   ]
  },
  {
   "cell_type": "code",
   "execution_count": 1,
   "id": "fourth-problem",
   "metadata": {},
   "outputs": [],
   "source": [
    "# Imports and Consts\n",
    "import matplotlib.pyplot as plt\n",
    "from math import pi, exp\n",
    "\n",
    "# Slab Properties\n",
    "nH = 0.1  # cm -3\n",
    "x = 0.1\n",
    "# Hydrogen Properties (Lyman)\n",
    "G = 6.265e8  # s -1\n",
    "f = 0.4164\n",
    "g0 = 2\n",
    "Z = 2.0\n",
    "# Other consts\n",
    "me = 9.11e-28  # g\n",
    "c = 3e10  # cm s -1\n",
    "e = 4.80e-10  # cm 3/2 g 1/2 s-1"
   ]
  },
  {
   "cell_type": "code",
   "execution_count": 2,
   "id": "editorial-india",
   "metadata": {},
   "outputs": [],
   "source": [
    "# Implement the formulae\n",
    "# Implementing Formula for Absorption Coefficient\n",
    "def calcAlpha(v, v0):\n",
    "    '''\n",
    "    Inputs :\n",
    "        v : Frequency\n",
    "        v0 : Central Frequency\n",
    "\n",
    "    Output :\n",
    "        a : Absorption Coefficient\n",
    "\n",
    "    Formula taken from task 2 page 2\n",
    "    '''\n",
    "    A = (e * e * f * nH) / (4 * pi * me * c)\n",
    "    B = ((1 - x) * g0) / (Z)\n",
    "    C = (G) / ((v - v0) ** 2 + (G / (4 * pi)) ** 2)\n",
    "    a = A * B * C\n",
    "    return a\n",
    "\n",
    "# Implementing formula to calculate Intensity\n",
    "def calcIntensity(l, v0, d):\n",
    "    '''\n",
    "    Inputs :\n",
    "        l : Wavelength\n",
    "        v0 : Central Frequency\n",
    "        d : Thickness of slab\n",
    "\n",
    "    Output :\n",
    "        I : (Intensity of light)\n",
    "\n",
    "    Forumla taken from task 2 page 2\n",
    "    '''\n",
    "    # Calculates freq. from wavelength\n",
    "    v = c / l\n",
    "    # Calculates Alpha for wavelength and central freq.\n",
    "    a = calcAlpha(v, v0)\n",
    "    # Calculates Intensity for Alpha and d\n",
    "    I = exp(a * d * -1)\n",
    "    # Returns I\n",
    "    return I"
   ]
  },
  {
   "cell_type": "code",
   "execution_count": 3,
   "id": "verbal-electric",
   "metadata": {},
   "outputs": [],
   "source": [
    "# Implement the spectrum class\n",
    "class Spectrum(object):\n",
    "    def __init__(self, v0, d, res, low, up):\n",
    "        '''\n",
    "        Inputs :\n",
    "            v0 : Central Frequency\n",
    "            d : Thickness of slab\n",
    "            res : Number of steps between low and up\n",
    "            low : Lower limit / frequency to start from\n",
    "            up : Upper limit / frequency to terminate generation at\n",
    "        '''\n",
    "        self.v0 = v0\n",
    "        self.d = d\n",
    "        self.res = res\n",
    "        self.low = low / 10 ** 7\n",
    "        self.up = up / 10 ** 7\n",
    "        self.wavelengths = []\n",
    "        self.intensities = []\n",
    "\n",
    "    def generate(self):\n",
    "        '''\n",
    "        Generates list of intensities for the spectrum\n",
    "        '''\n",
    "        # Clears list of intensities and wavelengths\n",
    "        self.intensities = []\n",
    "        self.wavelengths = []\n",
    "        # Finds the step value for the simulation\n",
    "        STEP = (self.up - self.low) / self.res\n",
    "        # Runs for loop, iterating across all wavelengths\n",
    "        for i in range(self.res):\n",
    "            # Wavelength\n",
    "            w = self.low + (i * STEP)\n",
    "            # Add wavelength to list of wavelengths\n",
    "            self.wavelengths.append(w * 10**7)\n",
    "            # Calculate intensity for wavelength\n",
    "            intensity = calcIntensity(w, self.v0, self.d)\n",
    "            # Add intensity to list of intensities\n",
    "            self.intensities.append(intensity)\n",
    "\n",
    "    def show(self, save=False):\n",
    "        plt.plot(self.wavelengths, self.intensities)\n",
    "        plt.xlabel(\"Wavelength (nm)\")\n",
    "        plt.ylabel(\"Intensity\")\n",
    "        plt.title(\"Spectrum\")\n",
    "        plt.show()\n",
    "        if not save:\n",
    "            return None\n",
    "\n",
    "        if not os.path.exists('Plots'):\n",
    "            os.mkdir('Plots')\n",
    "\n",
    "        plt.savefig(f'Plots/{self.v0}_{self.d}_{self.res}_{self.low}_{self.up}.jpg')\n",
    "\n",
    "    def __len__(self):\n",
    "        return len(self.intensities)\n",
    "\n",
    "    def __repr__(self):\n",
    "        return f\"Central Frequency : {self.v0}\\nThickness of slab : {self.d}\""
   ]
  },
  {
   "cell_type": "code",
   "execution_count": 4,
   "id": "static-evolution",
   "metadata": {},
   "outputs": [],
   "source": [
    "# Function to print out the import details about the spectrum\n",
    "def doEverything(obj):\n",
    "    # Calculate the data required for the plot\n",
    "    obj.generate()\n",
    "    # -------------------------------------------------------------------\n",
    "    # If intensity drops below this value, we assume it to be the start of the fall.\n",
    "    # If intensity jumps above this value, we assume the fall has ended.\n",
    "    THRESHOLD = 0.999\n",
    "    # Initialise the values of these markers\n",
    "    low = None\n",
    "    high = None\n",
    "\n",
    "    # Loop through all the wavelengths in the list to find these values\n",
    "    for i in range(len(obj.intensities)):\n",
    "        intensity = obj.intensities[i]\n",
    "        wavelength = obj.wavelengths[i]\n",
    "\n",
    "        # If the intensity is dropping below the treshold the first time\n",
    "        if intensity < THRESHOLD and not low:\n",
    "            low = wavelength\n",
    "\n",
    "        # If the intensity jumps above the treshold for the first time\n",
    "        if intensity > THRESHOLD and low:\n",
    "            high = wavelength\n",
    "            # Exit the loop, for obvious reasons\n",
    "            break\n",
    "    # -------------------------------------------------------------------\n",
    "    print(\"-----------------------------\")\n",
    "    print(\"Number of wavelengths sampled: \", len(obj))\n",
    "    print(obj)\n",
    "    print(\"Wavelength of Minimum Intensity: \",\n",
    "          obj.wavelengths[obj.intensities.index(min(obj.intensities))],\n",
    "          \"nm\")\n",
    "    # Now, we print the minimum intensity\n",
    "    print(\"Minimum Intensity: \",\n",
    "          obj.intensities[obj.intensities.index(min(obj.intensities))])\n",
    "    print(\"-----------------------------\")\n",
    "    print(\"The threshold we've set is: \", THRESHOLD)\n",
    "    print(\"Lower wavelength is: \", low, \"nm\")\n",
    "    print(\"Upper wavelength is: \", high, \"nm\")\n",
    "    print(\"Bandwidth is: \", high-low, \"nm\")\n",
    "    obj.show()\n",
    "    print(\"-----------------------------\")"
   ]
  },
  {
   "cell_type": "markdown",
   "id": "irish-belly",
   "metadata": {},
   "source": [
    "***\n",
    "# **Part (1): Generating the spectrum for the three values of d** <a class=\"anchor\" id=\"second-bullet\"></a>"
   ]
  },
  {
   "cell_type": "code",
   "execution_count": 7,
   "id": "located-dallas",
   "metadata": {},
   "outputs": [
    {
     "name": "stdout",
     "output_type": "stream",
     "text": [
      "-----------------------------\n",
      "Number of wavelengths sampled:  10000000\n",
      "Central Frequency : 2466070000000000.0\n",
      "Thickness of slab : 1000000000000000.0\n",
      "Wavelength of Minimum Intensity:  121.65104500000001 nm\n",
      "Minimum Intensity:  0.0\n",
      "-----------------------------\n",
      "The threshold we've set is:  0.999\n",
      "Lower wavelength is:  121.64486000000001 nm\n",
      "Upper wavelength is:  121.65724 nm\n",
      "Bandwidth is:  0.012379999999993174 nm\n"
     ]
    },
    {
     "data": {
      "image/png": "[encoded data removed]",
      "text/plain": [
       "<Figure size 432x288 with 1 Axes>"
      ]
     },
     "metadata": {
      "needs_background": "light"
     },
     "output_type": "display_data"
    },
    {
     "name": "stdout",
     "output_type": "stream",
     "text": [
      "-----------------------------\n",
      "-----------------------------\n",
      "Number of wavelengths sampled:  10000000\n",
      "Central Frequency : 2466070000000000.0\n",
      "Thickness of slab : 1e+19\n",
      "Wavelength of Minimum Intensity:  121.65033500000001 nm\n",
      "Minimum Intensity:  0.0\n",
      "-----------------------------\n",
      "The threshold we've set is:  0.999\n",
      "Lower wavelength is:  121.03523500000001 nm\n",
      "Upper wavelength is:  122.273165 nm\n",
      "Bandwidth is:  1.2379299999999915 nm\n"
     ]
    },
    {
     "data": {
      "image/png": "[encoded data removed]",
      "text/plain": [
       "<Figure size 432x288 with 1 Axes>"
      ]
     },
     "metadata": {
      "needs_background": "light"
     },
     "output_type": "display_data"
    },
    {
     "name": "stdout",
     "output_type": "stream",
     "text": [
      "-----------------------------\n",
      "-----------------------------\n",
      "Number of wavelengths sampled:  10000000\n",
      "Central Frequency : 2466070000000000.0\n",
      "Thickness of slab : 1e+22\n",
      "Wavelength of Minimum Intensity:  121.628375 nm\n",
      "Minimum Intensity:  0.0\n",
      "-----------------------------\n",
      "The threshold we've set is:  0.999\n",
      "Lower wavelength is:  104.79084 nm\n",
      "Upper wavelength is:  144.97696000000002 nm\n",
      "Bandwidth is:  40.18612000000002 nm\n"
     ]
    },
    {
     "data": {
      "image/png": "[encoded data removed]",
      "text/plain": [
       "<Figure size 432x288 with 1 Axes>"
      ]
     },
     "metadata": {
      "needs_background": "light"
     },
     "output_type": "display_data"
    },
    {
     "name": "stdout",
     "output_type": "stream",
     "text": [
      "-----------------------------\n"
     ]
    }
   ],
   "source": [
    "# v0 to store central frequencies\n",
    "v0 = [2.46607e15]\n",
    "# d to store all thicknesses\n",
    "d = [10e14, 10e18, 10e21]\n",
    "\n",
    "for i in v0:\n",
    "    for j in d:\n",
    "        obj = Spectrum(i, j, 10 ** 7, 100, 150)\n",
    "        doEverything(obj)"
   ]
  },
  {
   "cell_type": "markdown",
   "id": "announced-rebate",
   "metadata": {},
   "source": [
    "***\n",
    "# **Task (2): Generate spectrum for all three d's with new value** <a class=\"anchor\" id=\"sec-bullet\"></a>"
   ]
  },
  {
   "cell_type": "code",
   "execution_count": 8,
   "id": "viral-bargain",
   "metadata": {},
   "outputs": [
    {
     "name": "stdout",
     "output_type": "stream",
     "text": [
      "-----------------------------\n",
      "Number of wavelengths sampled:  10000000\n",
      "Central Frequency : 2466320000000000.0\n",
      "Thickness of slab : 1000000000000000.0\n",
      "Wavelength of Minimum Intensity:  121.638715 nm\n",
      "Minimum Intensity:  0.0\n",
      "-----------------------------\n",
      "The threshold we've set is:  0.999\n",
      "Lower wavelength is:  121.63253 nm\n",
      "Upper wavelength is:  121.64491000000001 nm\n",
      "Bandwidth is:  0.012380000000007385 nm\n"
     ]
    },
    {
     "data": {
      "image/png": "[encoded data removed]",
      "text/plain": [
       "<Figure size 432x288 with 1 Axes>"
      ]
     },
     "metadata": {
      "needs_background": "light"
     },
     "output_type": "display_data"
    },
    {
     "name": "stdout",
     "output_type": "stream",
     "text": [
      "-----------------------------\n",
      "-----------------------------\n",
      "Number of wavelengths sampled:  10000000\n",
      "Central Frequency : 2466320000000000.0\n",
      "Thickness of slab : 1e+19\n",
      "Wavelength of Minimum Intensity:  121.638 nm\n",
      "Minimum Intensity:  0.0\n",
      "-----------------------------\n",
      "The threshold we've set is:  0.999\n",
      "Lower wavelength is:  121.02302500000002 nm\n",
      "Upper wavelength is:  122.26071 nm\n",
      "Bandwidth is:  1.2376849999999848 nm\n"
     ]
    },
    {
     "data": {
      "image/png": "[encoded data removed]",
      "text/plain": [
       "<Figure size 432x288 with 1 Axes>"
      ]
     },
     "metadata": {
      "needs_background": "light"
     },
     "output_type": "display_data"
    },
    {
     "name": "stdout",
     "output_type": "stream",
     "text": [
      "-----------------------------\n",
      "-----------------------------\n",
      "Number of wavelengths sampled:  10000000\n",
      "Central Frequency : 2466320000000000.0\n",
      "Thickness of slab : 1e+22\n",
      "Wavelength of Minimum Intensity:  121.61605000000002 nm\n",
      "Minimum Intensity:  0.0\n",
      "-----------------------------\n",
      "The threshold we've set is:  0.999\n",
      "Lower wavelength is:  104.78169000000001 nm\n",
      "Upper wavelength is:  144.95945 nm\n",
      "Bandwidth is:  40.17775999999999 nm\n"
     ]
    },
    {
     "data": {
      "image/png": "[encoded data removed]",
      "text/plain": [
       "<Figure size 432x288 with 1 Axes>"
      ]
     },
     "metadata": {
      "needs_background": "light"
     },
     "output_type": "display_data"
    },
    {
     "name": "stdout",
     "output_type": "stream",
     "text": [
      "-----------------------------\n"
     ]
    }
   ],
   "source": [
    "# v0 to store central frequencies\n",
    "v0 = [2.46632e15]\n",
    "# d to store all thicknesses\n",
    "d = [10e14, 10e18, 10e21]\n",
    "\n",
    "for i in v0:\n",
    "    for j in d:\n",
    "        obj = Spectrum(i, j, 10 ** 7, 100, 150)\n",
    "        doEverything(obj)"
   ]
  },
  {
   "cell_type": "markdown",
   "id": "equipped-pastor",
   "metadata": {},
   "source": [
    "***\n",
    "# Task (3): Comment on graphs <a class=\"anchor\" id=\"third-bullet\"></a>\n",
    "***\n",
    "## NOTE:<a class=\"anchor\" id=\"note-bullet\"></a>\n",
    "\n",
    "1. As we know, we've focused on a specific transition and spent our time trying to generate that particular spectral line. The transition we were focussing on is that of an electron in the n=1 energy state of a Hydrogen atom which absorbs a photon and jumps up to n=2. We know that the actual value of the wavelength at which this transition occurs is around 121.567 nm. The value we got from the formula came out to be around 121.63 nm, which gives an error of about 0.0518%. *Sub Note : The value of 121.63 is what is expected when we approximate c to 3 x 10 ^ 10 cm/s for both values of v0*\n",
    "\n",
    "2. Also, the threshold of 0.999 was arbitrarily chosen, to serve as guide posts for further inferences. Their physical meaning is that the intensity of the light observed is less than 0.999. Although this kind of intensity dip is most likely to be indistinguishable from sensor noise in the real world, we roll with it anyway as we're working with noise-less, generated data.\n",
    "\n",
    "3. Another thing to note here is that the wavelength for the \"minimum\" intensity observed is found from the smallest element in the list. We have not checked if the minimum intensity value (0) has been observed for multiple wavelengths. This is especially important to make note of in the second set of graphs, where we used v0 = 2.46632 * 10 ^ 15 Hz, because from the generated graphs it looks like there might be multiple wavelengths which are completely absorbed by the atoms. But since this doesn't make much sense (we should have only one wavelength where I = 0), I have written off this issue as an unfortunate consequence of stressing our compute resources beyond it's natural limits.\n",
    "\n",
    "With these points being addressed, let's move forward with the solution for the this subdivision.\n",
    "***\n",
    "## First, let's see the commonalities across all graphs. <a class=\"same\" id=\"third-bullet\"></a>\n",
    "\n",
    "- The minimum intensity observed for all spectra is 0. This implies that there is atleast one wavelength at which we will observe nothing, i.e., the incident light has been totally absorbed by the gas slab.\n",
    "- All graphs have a minimum value at about 121.63 nm. This is consistent with what is expected, as has been mentioned in point (1) above and in the preface.\n",
    "- All graphs tend to follow a similar 'v' shaped pattern, where the intensity of light observed at the end of the slab decreases till it reaches a minimum value of 0, and then it returns back to a steady value of 1.\n",
    "- The bandwidth of wavelengths where the intensity of the observed light dips below the threshold remains about the same despite the change in central frequency (v0). This suggests that the bandwidth is indepenedent of the central frequency.\n",
    "- The slope of the bandwidth also appears to remain indepedent of the central frequency, but it has to be verified.\n",
    "***\n",
    "## Next, let's look at the differences between the graphs. <a class=\"anchor\" id=\"diff-bullet\"></a>\n",
    "\n",
    "- When we compare the first set of graphs with their counterparts in the second set, we can see that the graphs in the second set have a slightly lower wavelength at which their intensity becomes 0. This is attrubuted to the fact that the central frequency (v0) changes between the sets.\n",
    "- The bandwidth of the wavelengths where the intensity of observed light dips below the threshold increases within the set (as the thickness of the slab increases).\n",
    "- As we increase the distance through which the light travels, more wavelengths appear to get absorbed by the gas slab. This means that for very large distances of travel, we have atleast some of the light getting absorbed along the way without the wavelength being exactly equal to the transition, which implies one of the following cases being true:\n",
    "\n",
    "    1. We've broken the formula by throwing huge inputs at it.\n",
    "    2. Electron's are not as picky as we've been led to belive and will absorb any photons regardless of their wavelength, but at a very low probabilities. Hence, we need very long distances for this phenomenon to become prominent enough to be observed.\n",
    "***"
   ]
  },
  {
   "cell_type": "markdown",
   "id": "stunning-wagon",
   "metadata": {},
   "source": [
    "# Further Improvements we could make:<a class=\"anchor\" id=\"imp-bullet\"></a>\n",
    "\n",
    "1. Increase resolution of graph?\n",
    "2. Calculate the slope of the graph at every point to get a better comparision between graphs?\n",
    "2. From the graphs, it looks like there might be cases where we have more than one wavelength at which the observed intensity is 0. But for now, I'm assuming that these cases appear because the computer is breaking here, as we're approaching edge cases here. I might be wrong, but I'd love to learn more about this :)\n",
    "***"
   ]
  }
 ],
 "metadata": {
  "kernelspec": {
   "display_name": "Python 3",
   "language": "python",
   "name": "python3"
  },
  "language_info": {
   "codemirror_mode": {
    "name": "ipython",
    "version": 3
   },
   "file_extension": ".py",
   "mimetype": "text/x-python",
   "name": "python",
   "nbconvert_exporter": "python",
   "pygments_lexer": "ipython3",
   "version": "3.9.2"
  }
 },
 "nbformat": 4,
 "nbformat_minor": 5
}
